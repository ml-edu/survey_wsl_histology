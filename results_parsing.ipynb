{
 "cells": [
  {
   "cell_type": "code",
   "execution_count": 28,
   "metadata": {},
   "outputs": [],
   "source": [
    "import numpy as np\n",
    "import os\n",
    "import json"
   ]
  },
  {
   "cell_type": "code",
   "execution_count": 29,
   "metadata": {},
   "outputs": [],
   "source": [
    "results_dir = 'results/resnet_seed/'\n",
    "sub_dirs = os.listdir(results_dir)\n",
    "sub_dirs.remove('_sources')\n",
    "sub_dirs = [os.path.join(results_dir, x) for x in sub_dirs]"
   ]
  },
  {
   "cell_type": "code",
   "execution_count": 30,
   "metadata": {},
   "outputs": [],
   "source": [
    "config_file = 'config.json'\n",
    "results_file = 'info.json'"
   ]
  },
  {
   "cell_type": "code",
   "execution_count": 33,
   "metadata": {},
   "outputs": [],
   "source": [
    "methods_results = {}\n",
    "for path in sub_dirs:\n",
    "    conf = None\n",
    "    results = None\n",
    "    \n",
    "    with open(os.path.join(path, config_file)) as f:\n",
    "        conf = json.load(f)\n",
    "    with open(os.path.join(path, results_file)) as f:\n",
    "        results = json.load(f)\n",
    "        \n",
    "    method = conf['model']['pooling']\n",
    "    dice = results['dice']\n",
    "    \n",
    "    if method not in methods_results:\n",
    "        methods_results[method] = [dice]\n",
    "    else:\n",
    "        methods_results[method].append(dice)"
   ]
  },
  {
   "cell_type": "code",
   "execution_count": 38,
   "metadata": {},
   "outputs": [],
   "source": [
    "for key in methods_results.keys():\n",
    "    assert  5 == len(methods_results[key])"
   ]
  },
  {
   "cell_type": "code",
   "execution_count": 39,
   "metadata": {},
   "outputs": [
    {
     "name": "stdout",
     "output_type": "stream",
     "text": [
      "ablation 0.6843391060829163 0.0021972620442558084\n",
      "gradcampp 0.6797188997268677 0.0044185898782080615\n",
      "max 0.6780802607536316 0.006906339602278129\n",
      "average 0.6846770644187927 0.002624834912996053\n",
      "gradcam 0.6843391060829163 0.0021972620442558084\n",
      "wildcat 0.6834569811820984 0.0061296440584906525\n",
      "deepmil_multi 0.6952929854393005 0.011211686770350471\n",
      "lse 0.6823799133300781 0.013022827481847766\n"
     ]
    }
   ],
   "source": [
    "for method in methods_results.keys():\n",
    "    dices = np.array(methods_results[method])\n",
    "    print(method, dices.mean(), dices.std())"
   ]
  }
 ],
 "metadata": {
  "kernelspec": {
   "display_name": "Python 3",
   "language": "python",
   "name": "python3"
  },
  "language_info": {
   "codemirror_mode": {
    "name": "ipython",
    "version": 3
   },
   "file_extension": ".py",
   "mimetype": "text/x-python",
   "name": "python",
   "nbconvert_exporter": "python",
   "pygments_lexer": "ipython3",
   "version": "3.7.7"
  }
 },
 "nbformat": 4,
 "nbformat_minor": 4
}
