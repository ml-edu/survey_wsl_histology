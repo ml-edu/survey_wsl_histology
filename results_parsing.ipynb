{
 "cells": [
  {
   "cell_type": "code",
   "execution_count": 13,
   "metadata": {},
   "outputs": [],
   "source": [
    "import numpy as np\n",
    "import os\n",
    "import json"
   ]
  },
  {
   "cell_type": "code",
   "execution_count": 14,
   "metadata": {},
   "outputs": [],
   "source": [
    "results_dir = 'results/vae_3/'\n",
    "sub_dirs = os.listdir(results_dir)\n",
    "sub_dirs.remove('_sources')\n",
    "sub_dirs = [os.path.join(results_dir, x) for x in sub_dirs]"
   ]
  },
  {
   "cell_type": "code",
   "execution_count": 15,
   "metadata": {},
   "outputs": [],
   "source": [
    "config_file = 'config.json'\n",
    "results_file = 'info.json'"
   ]
  },
  {
   "cell_type": "code",
   "execution_count": 16,
   "metadata": {},
   "outputs": [],
   "source": [
    "methods_results = {}\n",
    "for path in sub_dirs:\n",
    "    conf = None\n",
    "    results = None\n",
    "    \n",
    "    with open(os.path.join(path, config_file)) as f:\n",
    "        conf = json.load(f)\n",
    "    with open(os.path.join(path, results_file)) as f:\n",
    "        results = json.load(f)\n",
    "        \n",
    "    method = conf['model']['pooling']\n",
    "    dice = results['dice']\n",
    "    \n",
    "    if method not in methods_results:\n",
    "        methods_results[method] = [dice]\n",
    "    else:\n",
    "        methods_results[method].append(dice)"
   ]
  },
  {
   "cell_type": "code",
   "execution_count": 17,
   "metadata": {},
   "outputs": [],
   "source": [
    "# for key in methods_results.keys():\n",
    "#     assert  5 == len(methods_results[key])"
   ]
  },
  {
   "cell_type": "code",
   "execution_count": 18,
   "metadata": {},
   "outputs": [
    {
     "name": "stdout",
     "output_type": "stream",
     "text": [
      "average 0.6909972548484802 0.008597505897362153\n"
     ]
    }
   ],
   "source": [
    "for method in methods_results.keys():\n",
    "    dices = np.array(methods_results[method])\n",
    "    print(method, dices.mean(), dices.std())"
   ]
  },
  {
   "cell_type": "code",
   "execution_count": null,
   "metadata": {},
   "outputs": [],
   "source": []
  }
 ],
 "metadata": {
  "kernelspec": {
   "display_name": "Python 3",
   "language": "python",
   "name": "python3"
  },
  "language_info": {
   "codemirror_mode": {
    "name": "ipython",
    "version": 3
   },
   "file_extension": ".py",
   "mimetype": "text/x-python",
   "name": "python",
   "nbconvert_exporter": "python",
   "pygments_lexer": "ipython3",
   "version": "3.7.7"
  }
 },
 "nbformat": 4,
 "nbformat_minor": 4
}
