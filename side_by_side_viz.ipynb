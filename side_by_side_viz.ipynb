{
 "cells": [
  {
   "cell_type": "code",
   "execution_count": 50,
   "metadata": {},
   "outputs": [],
   "source": [
    "import numpy as np\n",
    "from matplotlib import pyplot as plt\n",
    "import pickle\n",
    "import glob\n",
    "import os\n",
    "import cv2\n",
    "import torch\n",
    "from tqdm import tqdm"
   ]
  },
  {
   "cell_type": "code",
   "execution_count": 51,
   "metadata": {},
   "outputs": [],
   "source": [
    "out_dir = 'out/'\n",
    "directories = {\n",
    "    'w_vae': '/home/victor/PycharmProjects/survey_wsl_histology/out/resnet18_vae0.0001/average/',\n",
    "    'wo_vae': '/home/victor/PycharmProjects/survey_wsl_histology/out/resnet18_vae0/average/'\n",
    "}"
   ]
  },
  {
   "cell_type": "code",
   "execution_count": 52,
   "metadata": {},
   "outputs": [],
   "source": [
    "def get_overlays_and_dice(path):\n",
    "    paths = glob.glob(path + '*.pkl')\n",
    "    \n",
    "    overlays = None\n",
    "    dices = None\n",
    "    \n",
    "    objects = {}\n",
    "    for p in paths:\n",
    "        with open(p, 'rb') as f:\n",
    "            pickle_obj = pickle.load(f)\n",
    "            base = os.path.basename(p)\n",
    "            key = os.path.splitext(base)[0]\n",
    "            objects[key] = pickle_obj\n",
    "                \n",
    "    return objects"
   ]
  },
  {
   "cell_type": "code",
   "execution_count": 53,
   "metadata": {},
   "outputs": [],
   "source": [
    "results = {method: get_overlays_and_dice(directory) for (method, directory) in zip(directories.keys(), directories.values())}"
   ]
  },
  {
   "cell_type": "code",
   "execution_count": 56,
   "metadata": {},
   "outputs": [],
   "source": [
    "with open('npy_results/overlay_gt/input.pkl', 'rb') as f:\n",
    "    img_input = pickle.load(f)\n",
    "    img_input = [item.squeeze().transpose(1, 2, 0) for item in img_input]\n",
    "with open('npy_results/overlay_gt/gt_overlays.pkl', 'rb') as f:\n",
    "    gt_overlay = pickle.load(f)\n",
    "    gt_overlay = [item.transpose(1, 2, 0) for item in gt_overlay]"
   ]
  },
  {
   "cell_type": "code",
   "execution_count": 57,
   "metadata": {},
   "outputs": [],
   "source": [
    "def normalize(x):\n",
    "    x_min = x.min()\n",
    "    x_max = x.max()\n",
    "    return (x - x_min) / (x_max - x_min)"
   ]
  },
  {
   "cell_type": "code",
   "execution_count": 68,
   "metadata": {},
   "outputs": [
    {
     "name": "stderr",
     "output_type": "stream",
     "text": [
      "Saving figures: 100%|███████████████████████████| 80/80 [02:03<00:00,  1.54s/it]\n"
     ]
    }
   ],
   "source": [
    "fig_dir = 'results_vae/{}'.format(results.keys())\n",
    "os.makedirs(fig_dir, exist_ok=True)\n",
    "for i in tqdm(range(len(img_input)), ncols=80, desc='Saving figures'):\n",
    "    fig, axs = plt.subplots(1, 4, sharey='row', figsize=(20, 10))\n",
    "    (ax0, ax1, ax2, ax3) = axs\n",
    "        \n",
    "    ax0.imshow(img_input[i])\n",
    "    ax0.set_title('Input')\n",
    "    \n",
    "    ax1.imshow(gt_overlay[i])\n",
    "    ax1.set_title('GT overlay')\n",
    "    \n",
    "    cams_vae, dice_vae, label_vae = results['w_vae']['cams'][i], results['w_vae']['dice_per_image'][i], results['w_vae']['labels'][i]\n",
    "\n",
    "    cams, dice, label = results['wo_vae']['cams'][i], results['wo_vae']['dice_per_image'][i], results['wo_vae']['labels'][i]\n",
    "\n",
    "    cam_vae = cams_vae[label_vae]\n",
    "    cam = cams[label]\n",
    "    stack = np.stack([cam_vae, cam], axis=0)\n",
    "    norm_stack = normalize(stack)\n",
    "    \n",
    "    ax2.imshow(img_input[i])\n",
    "    ax2.imshow(255 * norm_stack[0], alpha=0.6, cmap='jet')\n",
    "    ax2.set_title('w_vae')\n",
    "\n",
    "    ax3.imshow(img_input[i])\n",
    "    ax3.imshow(255 * norm_stack[1], alpha=0.6, cmap='jet')\n",
    "    ax3.set_title('wo_vae')\n",
    "    \n",
    "    f_name = 'results_{}.png'.format(i)\n",
    "    f_path = os.path.join(fig_dir, f_name)\n",
    "    plt.savefig(f_path, dpi=150)\n",
    "    plt.close(fig)"
   ]
  }
 ],
 "metadata": {
  "kernelspec": {
   "display_name": "Python 3",
   "language": "python",
   "name": "python3"
  },
  "language_info": {
   "codemirror_mode": {
    "name": "ipython",
    "version": 3
   },
   "file_extension": ".py",
   "mimetype": "text/x-python",
   "name": "python",
   "nbconvert_exporter": "python",
   "pygments_lexer": "ipython3",
   "version": "3.7.7"
  }
 },
 "nbformat": 4,
 "nbformat_minor": 4
}
